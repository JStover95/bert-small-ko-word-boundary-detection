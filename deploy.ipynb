{
 "cells": [
  {
   "cell_type": "markdown",
   "id": "782abec7",
   "metadata": {},
   "source": [
    "### Install git-lfs and Download the Model\n",
    "\n",
    "The model's weights `pytorch_model.bin` is stored using git LFS on GitHub. To properly load the model's weights on a notebook, install `git-lfs` and retrieve the file from LFS. This can take several minutes on a small notebook instance."
   ]
  },
  {
   "cell_type": "code",
   "execution_count": null,
   "id": "47c5af08",
   "metadata": {},
   "outputs": [],
   "source": [
    "%%sh\n",
    "\n",
    "conda install -y -c conda-forge git-lfs\n",
    "git lfs install\n",
    "git lfs fetch --all\n",
    "git lfs pull\n",
    "git lfs checkout"
   ]
  },
  {
   "cell_type": "markdown",
   "id": "b7b947a4",
   "metadata": {},
   "source": [
    "### Package the Model\n",
    "\n",
    "The Sagemaker SDK expects a `.tar.gz` file to be passed as `model_data` to a `PyTorchModel` instance. Create a `model.tar.gz` file with the following structure:\n",
    "\n",
    "```txt\n",
    "| model/\n",
    "    | pytorch_model.bin\n",
    "| code/\n",
    "    | infer.py\n",
    "    | model.py\n",
    "    | requirements.txt\n",
    "```\n",
    "\n",
    "The entrypoint for the model is `infer.py`, which will load `pytorch_model.bin` from the `model/` directory and import `BertForWordBoundaryDetection` from `model.py`. `requirements.txt` includes an install of `transformers`, which is not included in the base Docker image for PyTorch models."
   ]
  },
  {
   "cell_type": "code",
   "execution_count": null,
   "id": "f135a6a2-f2f3-4ada-83c7-9e181b71fe67",
   "metadata": {},
   "outputs": [],
   "source": [
    "import os\n",
    "import tarfile\n",
    "\n",
    "model_path = \"model/\"\n",
    "code_path = \"code/\"\n",
    "\n",
    "zipped_model_path = \"model.tar.gz\"\n",
    "\n",
    "with tarfile.open(zipped_model_path, \"w:gz\") as tar:\n",
    "    tar.add(\"pytorch_model.bin\", os.path.join(model_path, \"pytorch_model.bin\"))\n",
    "    tar.add(\"sagemaker_infer.py\", os.path.join(code_path, \"infer.py\"))\n",
    "    tar.add(\"model.py\", os.path.join(code_path, \"model.py\"))\n",
    "    tar.add(\"sagemaker_requirements.txt\", os.path.join(code_path, \"requirements.txt\"))"
   ]
  },
  {
   "cell_type": "markdown",
   "id": "fa7bb6b9-e552-4218-a78e-594f74934cf1",
   "metadata": {},
   "source": [
    "### Deploy the Model\n",
    "\n",
    "Use the Sagemaker SDK to initialize a `PyTorchModel` instance with the `model.tar.gz` file created in the previous cell.\n",
    "\n",
    "This cell creates a serverless deployment, which may be suitable for lightweight use cases. A provisioned instance can instead be created by calling `model.deploy` without using a serverless instance config. For example:\n",
    "\n",
    "```python\n",
    "predictor = model.deploy(\n",
    "    initial_instance_count=1,\n",
    "    instance_type=\"ml.m5.xlarge\",\n",
    "    endpoint_name=endpoint_name\n",
    ")\n",
    "```"
   ]
  },
  {
   "cell_type": "code",
   "execution_count": null,
   "id": "aa80a2f7-3dad-4c14-9949-a1a7f56e5b0d",
   "metadata": {},
   "outputs": [],
   "source": [
    "import time\n",
    "\n",
    "from sagemaker import get_execution_role, Session\n",
    "from sagemaker.pytorch import PyTorchModel\n",
    "from sagemaker.serverless import ServerlessInferenceConfig\n",
    "\n",
    "algorithm_name = \"bert-small-ko-word-boundary-detection\"\n",
    "timestamp = time.strftime(\"%Y-%m-%d-%H-%M-%S\", time.gmtime())\n",
    "endpoint_name = f\"{algorithm_name}-{timestamp}\"\n",
    "\n",
    "model = PyTorchModel(\n",
    "    name=f\"{algorithm_name}-model-{timestamp}\",\n",
    "    entry_point=\"infer.py\",\n",
    "    model_data=zipped_model_path,\n",
    "    role=get_execution_role(),\n",
    "    framework_version=\"2.0\",\n",
    "    py_version=\"py310\",\n",
    ")\n",
    "\n",
    "config = ServerlessInferenceConfig(\n",
    "    memory_size_in_mb=3072,\n",
    "    max_concurrency=4,\n",
    ")\n",
    "\n",
    "predictor = model.deploy(\n",
    "    serverless_inference_config=config,\n",
    "    endpoint_name=endpoint_name\n",
    ")"
   ]
  },
  {
   "cell_type": "markdown",
   "id": "13ed56fd-18d6-4af8-93bb-5a833abc9f9c",
   "metadata": {},
   "source": [
    "### Test the Endpoint\n",
    "\n",
    "Send a test invocation to the endpoint created in the previous cell. Note that the entrypoint `infer.py` expects a list of strings as the request body."
   ]
  },
  {
   "cell_type": "code",
   "execution_count": null,
   "id": "389726a1-17f3-40ce-8fa0-6bf4b379bdea",
   "metadata": {},
   "outputs": [],
   "source": [
    "import json\n",
    "\n",
    "client = Session().sagemaker_runtime_client\n",
    "body = [\"공장 훗날\"]\n",
    "\n",
    "response = client.invoke_endpoint(\n",
    "    EndpointName=endpoint_name,\n",
    "    Body=json.dumps(body, ensure_ascii=False),\n",
    "    ContentType=\"application/json\",\n",
    ")\n",
    "\n",
    "response[\"Body\"].read()"
   ]
  }
 ],
 "metadata": {
  "kernelspec": {
   "display_name": "env",
   "language": "python",
   "name": "python3"
  },
  "language_info": {
   "codemirror_mode": {
    "name": "ipython",
    "version": 3
   },
   "file_extension": ".py",
   "mimetype": "text/x-python",
   "name": "python",
   "nbconvert_exporter": "python",
   "pygments_lexer": "ipython3",
   "version": "3.12.4"
  }
 },
 "nbformat": 4,
 "nbformat_minor": 5
}
