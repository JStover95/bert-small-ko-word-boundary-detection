{
 "cells": [
  {
   "cell_type": "markdown",
   "id": "782abec7",
   "metadata": {},
   "source": [
    "# Install git-lfs and Download the Model"
   ]
  },
  {
   "cell_type": "code",
   "execution_count": null,
   "id": "47c5af08",
   "metadata": {},
   "outputs": [],
   "source": [
    "%%sh\n",
    "\n",
    "conda install -c conda-forge git-lfs\n",
    "git lfs install\n",
    "git lfs fetch --all\n",
    "git lfs pull\n",
    "git lfs checkout"
   ]
  },
  {
   "cell_type": "markdown",
   "id": "cf34d844-287c-42d6-957a-846c0217948d",
   "metadata": {},
   "source": [
    "# Package the Model"
   ]
  },
  {
   "cell_type": "code",
   "execution_count": null,
   "id": "f135a6a2-f2f3-4ada-83c7-9e181b71fe67",
   "metadata": {},
   "outputs": [],
   "source": [
    "import os\n",
    "import tarfile\n",
    "\n",
    "model_path = \"model/\"\n",
    "code_path = \"code/\"\n",
    "\n",
    "zipped_model_path = \"model.tar.gz\"\n",
    "\n",
    "with tarfile.open(zipped_model_path, \"w:gz\") as tar:\n",
    "    tar.add(\"pytorch_model.bin\", os.path.join(model_path, \"pytorch_model.bin\"))\n",
    "    tar.add(\"sagemaker_infer.py\", os.path.join(code_path, \"infer.py\"))\n",
    "    tar.add(\"model.py\", os.path.join(code_path, \"model.py\"))\n",
    "    tar.add(\"sagemaker_requirements.txt\", os.path.join(code_path, \"requirements.txt\"))"
   ]
  },
  {
   "cell_type": "markdown",
   "id": "fa7bb6b9-e552-4218-a78e-594f74934cf1",
   "metadata": {},
   "source": [
    "# Deploy the Model"
   ]
  },
  {
   "cell_type": "code",
   "execution_count": null,
   "id": "aa80a2f7-3dad-4c14-9949-a1a7f56e5b0d",
   "metadata": {},
   "outputs": [],
   "source": [
    "import time\n",
    "\n",
    "from sagemaker import get_execution_role, Session\n",
    "from sagemaker.pytorch import PyTorchModel\n",
    "from sagemaker.serverless import ServerlessInferenceConfig\n",
    "\n",
    "algorithm_name = \"bert-small-ko-word-boundary-detection\"\n",
    "timestamp = time.strftime(\"%Y-%m-%d-%H-%M-%S\", time.gmtime())\n",
    "endpoint_name = f\"{algorithm_name}-{timestamp}\"\n",
    "\n",
    "model = PyTorchModel(\n",
    "    name=f\"{algorithm_name}-model-{timestamp}\",\n",
    "    entry_point=\"infer.py\",\n",
    "    model_data=zipped_model_path,\n",
    "    role=get_execution_role(),\n",
    "    framework_version=\"2.0\",\n",
    "    py_version=\"py310\",\n",
    ")\n",
    "\n",
    "config = ServerlessInferenceConfig(\n",
    "    memory_size_in_mb=3072,\n",
    "    max_concurrency=4,\n",
    ")\n",
    "\n",
    "predictor = model.deploy(\n",
    "    serverless_inference_config=config,\n",
    "    endpoint_name=endpoint_name\n",
    ")"
   ]
  },
  {
   "cell_type": "markdown",
   "id": "13ed56fd-18d6-4af8-93bb-5a833abc9f9c",
   "metadata": {},
   "source": [
    "# Test the Endpoint"
   ]
  },
  {
   "cell_type": "code",
   "execution_count": null,
   "id": "389726a1-17f3-40ce-8fa0-6bf4b379bdea",
   "metadata": {},
   "outputs": [],
   "source": [
    "import json\n",
    "\n",
    "client = Session().sagemaker_runtime_client\n",
    "body = [\"공장 훗날\"]\n",
    "\n",
    "response = client.invoke_endpoint(\n",
    "    EndpointName=endpoint_name,\n",
    "    Body=json.dumps(body, ensure_ascii=False),\n",
    "    ContentType=\"application/json\",\n",
    ")\n",
    "\n",
    "response[\"Body\"].read()"
   ]
  }
 ],
 "metadata": {
  "kernelspec": {
   "display_name": "env",
   "language": "python",
   "name": "python3"
  },
  "language_info": {
   "codemirror_mode": {
    "name": "ipython",
    "version": 3
   },
   "file_extension": ".py",
   "mimetype": "text/x-python",
   "name": "python",
   "nbconvert_exporter": "python",
   "pygments_lexer": "ipython3",
   "version": "3.12.4"
  }
 },
 "nbformat": 4,
 "nbformat_minor": 5
}
